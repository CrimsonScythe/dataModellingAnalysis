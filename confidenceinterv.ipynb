{
 "cells": [
  {
   "cell_type": "markdown",
   "metadata": {},
   "source": [
    "# Confidence Intervals"
   ]
  },
  {
   "cell_type": "markdown",
   "metadata": {},
   "source": [
    "Jonas Peters, 20.11.2018"
   ]
  },
  {
   "cell_type": "code",
   "execution_count": 7,
   "metadata": {},
   "outputs": [],
   "source": [
    "import scipy.stats\n",
    "import matplotlib.pyplot as plt\n",
    "%matplotlib inline  \n",
    "import numpy as np\n",
    "import math"
   ]
  },
  {
   "cell_type": "code",
   "execution_count": 8,
   "metadata": {},
   "outputs": [],
   "source": [
    "np.random.seed(111)"
   ]
  },
  {
   "cell_type": "code",
   "execution_count": 9,
   "metadata": {},
   "outputs": [
    {
     "name": "stdout",
     "output_type": "stream",
     "text": [
      "904\n"
     ]
    }
   ],
   "source": [
    "mu = 3.7\n",
    "sigma = 2\n",
    "n = 9\n",
    "nexp = 10000 \n",
    "counter = 0\n",
    "for i in range(nexp):\n",
    "    x = np.random.normal(mu,sigma,n) # simulates n realizations from a Gaussian with mean mu and var sigma^2\n",
    "    sig = 0.0\n",
    "    smu=0.0\n",
    "    for j in range(n):\n",
    "        smu = smu + x[j]\n",
    "    smu = smu / n    \n",
    "    for i in range(n):\n",
    "        sig = sig + (x[i] - smu)**2\n",
    "    sig = sig / (n - 1)\n",
    "    sig = math.sqrt(sig)\n",
    "    # TODO: adapt for b)\n",
    "    fac1 = scipy.stats.norm.ppf(0.025, 0, 1) # computes the 0.025quantile of a Gaussian, roughly -1.96 \n",
    "    fac2 = scipy.stats.norm.ppf(0.975, 0, 1) # computes the 0.975quantile of a Gaussian, roughly 1.96 \n",
    "    a = np.mean(x) - fac2*sig/np.sqrt(n) # TODO: adapt for c)\n",
    "    b = np.mean(x) - fac1*sig/np.sqrt(n) # TODO: adapt for c)\n",
    "    if (a < mu) & (mu < b):\n",
    "        if nexp < 1000:\n",
    "            \n",
    "            plt.plot((a, b), (i, i), 'k-')\n",
    "    else:\n",
    "        counter = counter + 1\n",
    "        if nexp < 1000:\n",
    "            plt.plot((a, b), (i, i), 'r-')\n",
    "if nexp < 1000:\n",
    "    plt.plot((mu, mu), (0, nexp), 'b-')\n",
    "    plt.show()\n",
    "print(counter)\n",
    "\n"
   ]
  },
  {
   "cell_type": "code",
   "execution_count": 10,
   "metadata": {},
   "outputs": [
    {
     "name": "stdout",
     "output_type": "stream",
     "text": [
      "519\n"
     ]
    }
   ],
   "source": [
    "mu = 3.7\n",
    "sigma = 2\n",
    "n = 9\n",
    "nexp = 10000 \n",
    "counter = 0\n",
    "for i in range(nexp):\n",
    "    x = np.random.normal(mu,sigma,n) # simulates n realizations from a Gaussian with mean mu and var sigma^2\n",
    "    sig = 0.0\n",
    "    smu=0.0\n",
    "    for j in range(n):\n",
    "        smu = smu + x[j]\n",
    "    smu = smu / n    \n",
    "    for i in range(n):\n",
    "        sig = sig + (x[i] - smu)**2\n",
    "    sig = sig / (n - 1)\n",
    "    sig = math.sqrt(sig)\n",
    "    # TODO: adapt for b)\n",
    "    fac1 = scipy.stats.t.ppf(0.025, n-1) # computes the 0.025quantile of a Gaussian, roughly -1.96 \n",
    "    fac2 = scipy.stats.t.ppf(0.975, n-1) # computes the 0.975quantile of a Gaussian, roughly 1.96 \n",
    "#     print(fac1)\n",
    "#     print(fac2)\n",
    "    a = np.mean(x) - fac2*sig/np.sqrt(n) # TODO: adapt for c)\n",
    "    b = np.mean(x) - fac1*sig/np.sqrt(n) # TODO: adapt for c)\n",
    "    if (a < mu) & (mu < b):\n",
    "        if nexp < 1000:\n",
    "            \n",
    "            plt.plot((a, b), (i, i), 'k-')\n",
    "    else:\n",
    "        counter = counter + 1\n",
    "        if nexp < 1000:\n",
    "            plt.plot((a, b), (i, i), 'r-')\n",
    "if nexp < 1000:\n",
    "    plt.plot((mu, mu), (0, nexp), 'b-')\n",
    "    plt.show()\n",
    "print(counter)\n",
    "\n"
   ]
  },
  {
   "cell_type": "code",
   "execution_count": 17,
   "metadata": {},
   "outputs": [
    {
     "name": "stdout",
     "output_type": "stream",
     "text": [
      "-2.3646242510103\n",
      "-2.7764451051977996\n"
     ]
    }
   ],
   "source": [
    "ps = scipy.stats.t.ppf((0.05)/2, 7)\n",
    "print(ps)\n",
    "pt = scipy.stats.t.ppf((0.05)/2, 4)\n",
    "print(pt)"
   ]
  },
  {
   "cell_type": "code",
   "execution_count": null,
   "metadata": {},
   "outputs": [],
   "source": []
  }
 ],
 "metadata": {
  "anaconda-cloud": {},
  "kernelspec": {
   "display_name": "Python 3",
   "language": "python",
   "name": "python3"
  },
  "language_info": {
   "codemirror_mode": {
    "name": "ipython",
    "version": 3
   },
   "file_extension": ".py",
   "mimetype": "text/x-python",
   "name": "python",
   "nbconvert_exporter": "python",
   "pygments_lexer": "ipython3",
   "version": "3.6.8"
  }
 },
 "nbformat": 4,
 "nbformat_minor": 1
}
